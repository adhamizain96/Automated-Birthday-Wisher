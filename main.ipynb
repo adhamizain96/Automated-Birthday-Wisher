{
 "cells": [
  {
   "cell_type": "code",
   "execution_count": 1,
   "id": "71cbc9bd",
   "metadata": {},
   "outputs": [],
   "source": [
    "from datetime import datetime as dt\n",
    "import pandas as p\n",
    "#smtplib module - defines an SMTP client session object that can be used to send mail to any internet machine with an SMTP or ESMTP listener daemon\n",
    "import smtplib\n",
    "\n",
    "EMAIL = 'ENTER YOUR EMAIL'\n",
    "PASSWORD = 'ENTER YOUR PASSWORD!'\n",
    "\n",
    "date = dt.now()\n",
    "today = (date.month, date.day)\n",
    "\n",
    "data = p.read_csv('birthdays.csv')\n",
    "#dictionary comprehension template - new_dict = {new_key: new_value for (index, data_row) in data.iterrows()}\n",
    "#note - (data_row['month'], data_row['day']) - key\n",
    "#note - data_row - new_value i.e. name, email, year\n",
    "birthday_dict = {(data_row['month'], data_row['day']): data_row for (index, data_row) in data.iterrows()}\n",
    "if today in birthday_dict:\n",
    "    birthday_person = birthday_dict[today]\n",
    "    with open ('template.txt') as letter_file:\n",
    "        info = letter_file.read()\n",
    "        info = info.replace('[Name]', birthday_person['name'])\n",
    "    with smtplib.SMTP('smtp.gmail.com') as internet_connection:\n",
    "        internet_connection.SMTP_SSL()\n",
    "        internet_connection.login(EMAIL, PASSWORD)\n",
    "        internet_connection.sendmail(msg = info, from_addr = EMAIL, to_addrs = birthday_person['email'])"
   ]
  },
  {
   "cell_type": "code",
   "execution_count": null,
   "id": "36bf8579",
   "metadata": {},
   "outputs": [],
   "source": []
  }
 ],
 "metadata": {
  "kernelspec": {
   "display_name": "Python 3",
   "language": "python",
   "name": "python3"
  },
  "language_info": {
   "codemirror_mode": {
    "name": "ipython",
    "version": 3
   },
   "file_extension": ".py",
   "mimetype": "text/x-python",
   "name": "python",
   "nbconvert_exporter": "python",
   "pygments_lexer": "ipython3",
   "version": "3.8.8"
  }
 },
 "nbformat": 4,
 "nbformat_minor": 5
}
